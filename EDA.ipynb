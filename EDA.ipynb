{
 "cells": [
  {
   "cell_type": "code",
   "execution_count": 1,
   "metadata": {},
   "outputs": [],
   "source": [
    "import pandas as pd\n",
    "import warnings\n",
    "import numpy as np\n",
    "import seaborn as sns\n",
    "import matplotlib.pyplot as plt\n",
    "from matplotlib import rcParams\n",
    "import datetime\n",
    "\n",
    "# calling functions from the util.py file\n",
    "from util import (\n",
    "    countplot_viz,\n",
    "    distplot_viz,\n",
    "    countplot_pointplot_viz,\n",
    "    countplot_pointplot_viz_top15,\n",
    "    df_descriptive_statistics,\n",
    ")\n",
    "\n",
    "from datetime import datetime\n",
    "from datetime import timedelta\n",
    "\n",
    "\n",
    "# ignoring warnings\n",
    "warnings.filterwarnings(\"ignore\")\n",
    "\n",
    "pd.options.display.max_columns = None\n",
    "\n",
    "# adding useful magic functions\n",
    "%load_ext lab_black\n",
    "%matplotlib inline\n",
    "%config Completer.use_jedi = False"
   ]
  },
  {
   "cell_type": "code",
   "execution_count": 2,
   "metadata": {},
   "outputs": [],
   "source": [
    "# Uploading data set\n",
    "df_data = pd.read_csv(\"mondu_fraud_case_study.csv\")"
   ]
  },
  {
   "cell_type": "code",
   "execution_count": 3,
   "metadata": {},
   "outputs": [
    {
     "data": {
      "text/html": [
       "<div>\n",
       "<style scoped>\n",
       "    .dataframe tbody tr th:only-of-type {\n",
       "        vertical-align: middle;\n",
       "    }\n",
       "\n",
       "    .dataframe tbody tr th {\n",
       "        vertical-align: top;\n",
       "    }\n",
       "\n",
       "    .dataframe thead th {\n",
       "        text-align: right;\n",
       "    }\n",
       "</style>\n",
       "<table border=\"1\" class=\"dataframe\">\n",
       "  <thead>\n",
       "    <tr style=\"text-align: right;\">\n",
       "      <th></th>\n",
       "      <th>account_age_days</th>\n",
       "      <th>transaction_amt</th>\n",
       "      <th>transaction_adj_amt</th>\n",
       "      <th>historic_velocity</th>\n",
       "      <th>ip_address</th>\n",
       "      <th>user_agent</th>\n",
       "      <th>email_domain</th>\n",
       "      <th>phone_number</th>\n",
       "      <th>billing_city</th>\n",
       "      <th>billing_postal</th>\n",
       "      <th>billing_state</th>\n",
       "      <th>card_bin</th>\n",
       "      <th>currency</th>\n",
       "      <th>cvv</th>\n",
       "      <th>signature_image</th>\n",
       "      <th>transaction_type</th>\n",
       "      <th>transaction_env</th>\n",
       "      <th>EVENT_TIMESTAMP</th>\n",
       "      <th>applicant_name</th>\n",
       "      <th>billing_address</th>\n",
       "      <th>merchant_id</th>\n",
       "      <th>locale</th>\n",
       "      <th>tranaction_initiate</th>\n",
       "      <th>days_since_last_logon</th>\n",
       "      <th>inital_amount</th>\n",
       "      <th>EVENT_LABEL</th>\n",
       "    </tr>\n",
       "  </thead>\n",
       "  <tbody>\n",
       "    <tr>\n",
       "      <th>0</th>\n",
       "      <td>3371.0</td>\n",
       "      <td>2167.0</td>\n",
       "      <td>56.0</td>\n",
       "      <td>2572.0</td>\n",
       "      <td>154.68.49.124</td>\n",
       "      <td>Opera/9.81.(Windows NT 10.0; ht-HT) Presto/2.9...</td>\n",
       "      <td>perez-garza.com</td>\n",
       "      <td>878-111-5140</td>\n",
       "      <td>Woodsburgh</td>\n",
       "      <td>96336.0</td>\n",
       "      <td>California</td>\n",
       "      <td>40771.0</td>\n",
       "      <td>cad</td>\n",
       "      <td>D</td>\n",
       "      <td>F</td>\n",
       "      <td>U</td>\n",
       "      <td>X</td>\n",
       "      <td>29.12.20 09:05</td>\n",
       "      <td>Linda Wright</td>\n",
       "      <td>4684 Sharon Ranch</td>\n",
       "      <td>066-82-8795</td>\n",
       "      <td>niu_NZ</td>\n",
       "      <td>O</td>\n",
       "      <td>59.0</td>\n",
       "      <td>13646.0</td>\n",
       "      <td>legit</td>\n",
       "    </tr>\n",
       "    <tr>\n",
       "      <th>1</th>\n",
       "      <td>2714.0</td>\n",
       "      <td>2045.0</td>\n",
       "      <td>48.0</td>\n",
       "      <td>4517.0</td>\n",
       "      <td>39.131.125.85</td>\n",
       "      <td>Opera/9.76.(X11; Linux i686; mi-NZ) Presto/2.9...</td>\n",
       "      <td>mcneil-ortega.com</td>\n",
       "      <td>(002)736-0139</td>\n",
       "      <td>West Kevin</td>\n",
       "      <td>78083.0</td>\n",
       "      <td>Florida</td>\n",
       "      <td>24480.0</td>\n",
       "      <td>cad</td>\n",
       "      <td>X</td>\n",
       "      <td>X</td>\n",
       "      <td>H</td>\n",
       "      <td>W</td>\n",
       "      <td>22.06.21 18:05</td>\n",
       "      <td>Terri Rivera</td>\n",
       "      <td>7642 Allison Ramp</td>\n",
       "      <td>669-99-9459</td>\n",
       "      <td>apn_IN</td>\n",
       "      <td>J</td>\n",
       "      <td>0.0</td>\n",
       "      <td>11930.0</td>\n",
       "      <td>legit</td>\n",
       "    </tr>\n",
       "    <tr>\n",
       "      <th>2</th>\n",
       "      <td>6987.0</td>\n",
       "      <td>2892.0</td>\n",
       "      <td>61.0</td>\n",
       "      <td>5007.0</td>\n",
       "      <td>166.245.194.83</td>\n",
       "      <td>Mozilla/5.0 (X11; Linux x86_64; rv:1.9.6.20) G...</td>\n",
       "      <td>davis-calderon.com</td>\n",
       "      <td>(983)585-2863x652</td>\n",
       "      <td>Lorichester</td>\n",
       "      <td>83236.0</td>\n",
       "      <td>Utah</td>\n",
       "      <td>37778.0</td>\n",
       "      <td>cad</td>\n",
       "      <td>X</td>\n",
       "      <td>Q</td>\n",
       "      <td>X</td>\n",
       "      <td>X</td>\n",
       "      <td>10.05.21 13:48</td>\n",
       "      <td>Sarah Gray</td>\n",
       "      <td>4948 Lisa Passage</td>\n",
       "      <td>086-41-1624</td>\n",
       "      <td>dv_MV</td>\n",
       "      <td>T</td>\n",
       "      <td>83.0</td>\n",
       "      <td>7412.0</td>\n",
       "      <td>legit</td>\n",
       "    </tr>\n",
       "    <tr>\n",
       "      <th>3</th>\n",
       "      <td>2712.0</td>\n",
       "      <td>3040.0</td>\n",
       "      <td>28.0</td>\n",
       "      <td>6022.0</td>\n",
       "      <td>100.1.217.216</td>\n",
       "      <td>Mozilla/5.0 (Macintosh; Intel Mac OS X 10 9_3 ...</td>\n",
       "      <td>rose-lee.org</td>\n",
       "      <td>+1-678-897-3420x60738</td>\n",
       "      <td>Stephenmouth</td>\n",
       "      <td>78364.0</td>\n",
       "      <td>Virginia</td>\n",
       "      <td>55790.0</td>\n",
       "      <td>usd</td>\n",
       "      <td>G</td>\n",
       "      <td>G</td>\n",
       "      <td>C</td>\n",
       "      <td>N</td>\n",
       "      <td>11.03.21 07:36</td>\n",
       "      <td>Valerie Jenkins</td>\n",
       "      <td>1616 Little Camp</td>\n",
       "      <td>669-97-4021</td>\n",
       "      <td>byn_ER</td>\n",
       "      <td>M</td>\n",
       "      <td>24.0</td>\n",
       "      <td>4623.0</td>\n",
       "      <td>legit</td>\n",
       "    </tr>\n",
       "    <tr>\n",
       "      <th>4</th>\n",
       "      <td>3598.0</td>\n",
       "      <td>2976.0</td>\n",
       "      <td>66.0</td>\n",
       "      <td>2600.0</td>\n",
       "      <td>113.156.65.245</td>\n",
       "      <td>Mozilla/5.0 (X11; Linux x86_64; rv:1.9.5.20) G...</td>\n",
       "      <td>nash.net</td>\n",
       "      <td>(013)204-1766x92641</td>\n",
       "      <td>New Brianmouth</td>\n",
       "      <td>77499.0</td>\n",
       "      <td>South Carolina</td>\n",
       "      <td>37370.0</td>\n",
       "      <td>cad</td>\n",
       "      <td>X</td>\n",
       "      <td>F</td>\n",
       "      <td>F</td>\n",
       "      <td>G</td>\n",
       "      <td>27.03.21 06:13</td>\n",
       "      <td>Amy Coleman</td>\n",
       "      <td>149 Harris Rapid</td>\n",
       "      <td>088-21-6329</td>\n",
       "      <td>the_NP</td>\n",
       "      <td>K</td>\n",
       "      <td>21.0</td>\n",
       "      <td>1905.0</td>\n",
       "      <td>legit</td>\n",
       "    </tr>\n",
       "  </tbody>\n",
       "</table>\n",
       "</div>"
      ],
      "text/plain": [
       "   account_age_days  transaction_amt  transaction_adj_amt  historic_velocity  \\\n",
       "0            3371.0           2167.0                 56.0             2572.0   \n",
       "1            2714.0           2045.0                 48.0             4517.0   \n",
       "2            6987.0           2892.0                 61.0             5007.0   \n",
       "3            2712.0           3040.0                 28.0             6022.0   \n",
       "4            3598.0           2976.0                 66.0             2600.0   \n",
       "\n",
       "       ip_address                                         user_agent  \\\n",
       "0   154.68.49.124  Opera/9.81.(Windows NT 10.0; ht-HT) Presto/2.9...   \n",
       "1   39.131.125.85  Opera/9.76.(X11; Linux i686; mi-NZ) Presto/2.9...   \n",
       "2  166.245.194.83  Mozilla/5.0 (X11; Linux x86_64; rv:1.9.6.20) G...   \n",
       "3   100.1.217.216  Mozilla/5.0 (Macintosh; Intel Mac OS X 10 9_3 ...   \n",
       "4  113.156.65.245  Mozilla/5.0 (X11; Linux x86_64; rv:1.9.5.20) G...   \n",
       "\n",
       "         email_domain           phone_number    billing_city  billing_postal  \\\n",
       "0     perez-garza.com           878-111-5140      Woodsburgh         96336.0   \n",
       "1   mcneil-ortega.com          (002)736-0139      West Kevin         78083.0   \n",
       "2  davis-calderon.com      (983)585-2863x652     Lorichester         83236.0   \n",
       "3        rose-lee.org  +1-678-897-3420x60738    Stephenmouth         78364.0   \n",
       "4            nash.net    (013)204-1766x92641  New Brianmouth         77499.0   \n",
       "\n",
       "    billing_state  card_bin currency cvv signature_image transaction_type  \\\n",
       "0      California   40771.0      cad   D               F                U   \n",
       "1         Florida   24480.0      cad   X               X                H   \n",
       "2            Utah   37778.0      cad   X               Q                X   \n",
       "3        Virginia   55790.0      usd   G               G                C   \n",
       "4  South Carolina   37370.0      cad   X               F                F   \n",
       "\n",
       "  transaction_env EVENT_TIMESTAMP   applicant_name    billing_address  \\\n",
       "0               X  29.12.20 09:05     Linda Wright  4684 Sharon Ranch   \n",
       "1               W  22.06.21 18:05     Terri Rivera  7642 Allison Ramp   \n",
       "2               X  10.05.21 13:48       Sarah Gray  4948 Lisa Passage   \n",
       "3               N  11.03.21 07:36  Valerie Jenkins   1616 Little Camp   \n",
       "4               G  27.03.21 06:13      Amy Coleman   149 Harris Rapid   \n",
       "\n",
       "   merchant_id  locale tranaction_initiate  days_since_last_logon  \\\n",
       "0  066-82-8795  niu_NZ                   O                   59.0   \n",
       "1  669-99-9459  apn_IN                   J                    0.0   \n",
       "2  086-41-1624   dv_MV                   T                   83.0   \n",
       "3  669-97-4021  byn_ER                   M                   24.0   \n",
       "4  088-21-6329  the_NP                   K                   21.0   \n",
       "\n",
       "   inital_amount EVENT_LABEL  \n",
       "0        13646.0       legit  \n",
       "1        11930.0       legit  \n",
       "2         7412.0       legit  \n",
       "3         4623.0       legit  \n",
       "4         1905.0       legit  "
      ]
     },
     "execution_count": 3,
     "metadata": {},
     "output_type": "execute_result"
    }
   ],
   "source": [
    "df_data.head()"
   ]
  },
  {
   "cell_type": "code",
   "execution_count": 4,
   "metadata": {},
   "outputs": [
    {
     "name": "stdout",
     "output_type": "stream",
     "text": [
      "<class 'pandas.core.frame.DataFrame'>\n",
      "RangeIndex: 150000 entries, 0 to 149999\n",
      "Data columns (total 26 columns):\n",
      " #   Column                 Non-Null Count   Dtype  \n",
      "---  ------                 --------------   -----  \n",
      " 0   account_age_days       149892 non-null  float64\n",
      " 1   transaction_amt        149870 non-null  float64\n",
      " 2   transaction_adj_amt    149886 non-null  float64\n",
      " 3   historic_velocity      149885 non-null  float64\n",
      " 4   ip_address             149873 non-null  object \n",
      " 5   user_agent             149887 non-null  object \n",
      " 6   email_domain           149910 non-null  object \n",
      " 7   phone_number           149873 non-null  object \n",
      " 8   billing_city           149884 non-null  object \n",
      " 9   billing_postal         149876 non-null  float64\n",
      " 10  billing_state          149887 non-null  object \n",
      " 11  card_bin               149872 non-null  float64\n",
      " 12  currency               149892 non-null  object \n",
      " 13  cvv                    149877 non-null  object \n",
      " 14  signature_image        149895 non-null  object \n",
      " 15  transaction_type       149884 non-null  object \n",
      " 16  transaction_env        149877 non-null  object \n",
      " 17  EVENT_TIMESTAMP        149888 non-null  object \n",
      " 18  applicant_name         149857 non-null  object \n",
      " 19  billing_address        149866 non-null  object \n",
      " 20  merchant_id            149893 non-null  object \n",
      " 21  locale                 149866 non-null  object \n",
      " 22  tranaction_initiate    149874 non-null  object \n",
      " 23  days_since_last_logon  149864 non-null  float64\n",
      " 24  inital_amount          149872 non-null  float64\n",
      " 25  EVENT_LABEL            150000 non-null  object \n",
      "dtypes: float64(8), object(18)\n",
      "memory usage: 29.8+ MB\n"
     ]
    }
   ],
   "source": [
    "df_data.info()"
   ]
  },
  {
   "cell_type": "code",
   "execution_count": 5,
   "metadata": {},
   "outputs": [],
   "source": [
    "# Adding new column for using in the rate calculations:\n",
    "\n",
    "df_data[\"EVENT_LABEL_\"] = np.where(df_data[\"EVENT_LABEL\"] == \"fraud\", 1, 0)"
   ]
  },
  {
   "cell_type": "markdown",
   "metadata": {},
   "source": [
    "## Understanding Variables:\n",
    "### Target Varible: Event Label"
   ]
  },
  {
   "cell_type": "code",
   "execution_count": 6,
   "metadata": {},
   "outputs": [
    {
     "data": {
      "image/png": "[encoded data removed]",
      "text/plain": [
       "<Figure size 864x288 with 1 Axes>"
      ]
     },
     "metadata": {
      "needs_background": "light"
     },
     "output_type": "display_data"
    }
   ],
   "source": [
    "# Distribution of transaction counts by whether fraud or not:\n",
    "\n",
    "countplot_viz(\n",
    "    df_data,\n",
    "    \"EVENT_LABEL\",\n",
    "    \"Event Labels\",\n",
    "    \"freq\",\n",
    "    \"Distribution of Transaction Count by Event Labels\",\n",
    "    figsize_x=12,\n",
    "    figsize_y=4,\n",
    "    palette=\"viridis\",\n",
    ")"
   ]
  },
  {
   "cell_type": "code",
   "execution_count": 7,
   "metadata": {},
   "outputs": [
    {
     "data": {
      "text/plain": [
       "EVENT_LABEL\n",
       "fraud    0.05442\n",
       "legit    0.94558\n",
       "Name: transaction_amt, dtype: float64"
      ]
     },
     "execution_count": 7,
     "metadata": {},
     "output_type": "execute_result"
    }
   ],
   "source": [
    "# EVENT_LABEL column ratio\n",
    "df_data.groupby(by=[\"EVENT_LABEL\"])[\"transaction_amt\"].count() / df_data[\n",
    "    \"transaction_amt\"\n",
    "].count()"
   ]
  },
  {
   "cell_type": "markdown",
   "metadata": {},
   "source": [
    "* There are 2 different categories as the event labels: Fraud and Legit\n",
    "* Rate of the fraudelent activities in total activities is 0.0544 "
   ]
  },
  {
   "cell_type": "markdown",
   "metadata": {},
   "source": [
    "### Bivariate Relationships: Time Variables\n",
    "### Event Timestamp & Event Label"
   ]
  },
  {
   "cell_type": "code",
   "execution_count": null,
   "metadata": {},
   "outputs": [],
   "source": [
    "# Changing type of EVENT_TIMESTAMP column from object to datetime:\n",
    "\n",
    "df_data[\"EVENT_TIMESTAMP\"] = pd.to_datetime(df_data[\"EVENT_TIMESTAMP\"])"
   ]
  },
  {
   "cell_type": "code",
   "execution_count": null,
   "metadata": {},
   "outputs": [],
   "source": [
    "# Adding new columns as year, month, weekday, hour and day.\n",
    "\n",
    "df_data[\"Weekday\"] = df_data[\n",
    "    \"EVENT_TIMESTAMP\"\n",
    "].dt.dayofweek  # To see Weekdays of the week\n",
    "df_data[\"Hour\"] = df_data[\"EVENT_TIMESTAMP\"].dt.hour  # To see hours of the day\n",
    "df_data[\"Day\"] = df_data[\"EVENT_TIMESTAMP\"].dt.day  # To see days of the month\n",
    "df_data[\"Year\"] = df_data[\"EVENT_TIMESTAMP\"].dt.year  # To see years of the column\n",
    "df_data[\"Month\"] = df_data[\"EVENT_TIMESTAMP\"].dt.month  # To see months of the column"
   ]
  },
  {
   "cell_type": "markdown",
   "metadata": {},
   "source": [
    "### Yearly check:"
   ]
  },
  {
   "cell_type": "code",
   "execution_count": null,
   "metadata": {},
   "outputs": [],
   "source": [
    "# To see which years we have in the dataset:\n",
    "\n",
    "df_data[\"Year\"].unique()"
   ]
  },
  {
   "cell_type": "code",
   "execution_count": null,
   "metadata": {},
   "outputs": [],
   "source": [
    "# To see count of fraud and legit transaction for each value in Year column:\n",
    "\n",
    "filter_list = [\"fraud\", \"legit\"]\n",
    "countplot_pointplot_viz(\n",
    "    df_data,\n",
    "    filter_list,\n",
    "    \"Year\",\n",
    "    \"EVENT_LABEL\",\n",
    "    \"EVENT_LABEL_\",\n",
    "    \"Years\",\n",
    "    \"Freq\",\n",
    "    \"Years & Event Label\",\n",
    "    palette=\"rocket\",\n",
    "    figsize_x=15,\n",
    "    figsize_y=5,\n",
    ")"
   ]
  },
  {
   "cell_type": "markdown",
   "metadata": {},
   "source": [
    "#### Findings: \n",
    "* 2021 is the highest fraudelent activity year \n",
    "* 2020 is the highest fraudelent activity ratio year "
   ]
  },
  {
   "cell_type": "markdown",
   "metadata": {},
   "source": [
    "### Monthly check:"
   ]
  },
  {
   "cell_type": "code",
   "execution_count": null,
   "metadata": {},
   "outputs": [],
   "source": [
    "# To see count of fraud and legit transaction for each value in Month column:\n",
    "\n",
    "filter_list = [\"fraud\", \"legit\"]\n",
    "countplot_pointplot_viz(\n",
    "    df_data,\n",
    "    filter_list,\n",
    "    \"Month\",\n",
    "    \"EVENT_LABEL\",\n",
    "    \"EVENT_LABEL_\",\n",
    "    \"Months\",\n",
    "    \"Freq\",\n",
    "    \"Months & Event Label\",\n",
    "    palette=\"rocket\",\n",
    "    figsize_x=25,\n",
    "    figsize_y=5,\n",
    ")"
   ]
  },
  {
   "cell_type": "markdown",
   "metadata": {},
   "source": [
    "#### Findings: \n",
    " * Highest fraudelent activities are in December, June and September"
   ]
  },
  {
   "cell_type": "markdown",
   "metadata": {},
   "source": [
    "### Day of the Week Check:"
   ]
  },
  {
   "cell_type": "code",
   "execution_count": null,
   "metadata": {},
   "outputs": [],
   "source": [
    "# The day of the week starts with Monday=0 and ends with Sunday=6. To see count of fraud and legit transaction for each value in Day of Week column:\n",
    "\n",
    "filter_list = [\"fraud\", \"legit\"]\n",
    "countplot_pointplot_viz(\n",
    "    df_data,\n",
    "    filter_list,\n",
    "    \"Weekday\",\n",
    "    \"EVENT_LABEL\",\n",
    "    \"EVENT_LABEL_\",\n",
    "    \"Day of The Week\",\n",
    "    \"Freq\",\n",
    "    \"Day of The Week & Event Label\",\n",
    "    palette=\"rocket\",\n",
    "    figsize_x=25,\n",
    "    figsize_y=5,\n",
    ")"
   ]
  },
  {
   "cell_type": "markdown",
   "metadata": {},
   "source": [
    "#### Findings:\n",
    "* Friday has the highest fraudelent activitie count and ratio. "
   ]
  },
  {
   "cell_type": "markdown",
   "metadata": {},
   "source": [
    "### Day of Month Check: "
   ]
  },
  {
   "cell_type": "code",
   "execution_count": null,
   "metadata": {},
   "outputs": [],
   "source": [
    "# The day of the months starts with 1 and ends with 31. To see count of fraud and legit transaction for each value in Day of Month column:\n",
    "\n",
    "filter_list = [\"fraud\", \"legit\"]\n",
    "countplot_pointplot_viz(\n",
    "    df_data,\n",
    "    filter_list,\n",
    "    \"Day\",\n",
    "    \"EVENT_LABEL\",\n",
    "    \"EVENT_LABEL_\",\n",
    "    \"Day of The Month\",\n",
    "    \"Freq\",\n",
    "    \"Day of The Month & Event Label\",\n",
    "    palette=\"rocket\",\n",
    "    figsize_x=25,\n",
    "    figsize_y=5,\n",
    ")"
   ]
  },
  {
   "cell_type": "markdown",
   "metadata": {},
   "source": [
    "#### Findings: \n",
    "* On 31th, 22th and 9th we observe the higestes fraudelent activity ratio.  "
   ]
  },
  {
   "cell_type": "markdown",
   "metadata": {},
   "source": [
    "### Hour of Day Check: "
   ]
  },
  {
   "cell_type": "code",
   "execution_count": null,
   "metadata": {},
   "outputs": [],
   "source": [
    "# The hours of day with 24=0.0, 1=1.0, etc. To see count of fraud and legit transaction for each value in Hour of the Day column:\n",
    "\n",
    "filter_list = [\"fraud\", \"legit\"]\n",
    "countplot_pointplot_viz(\n",
    "    df_data,\n",
    "    filter_list,\n",
    "    \"Hour\",\n",
    "    \"EVENT_LABEL\",\n",
    "    \"EVENT_LABEL_\",\n",
    "    \"Hour of The Day\",\n",
    "    \"Freq\",\n",
    "    \"Hour of The Day & Event Label\",\n",
    "    palette=\"rocket\",\n",
    "    figsize_x=25,\n",
    "    figsize_y=5,\n",
    ")"
   ]
  },
  {
   "cell_type": "markdown",
   "metadata": {},
   "source": [
    "#### Findings: \n",
    "* At 23, 17 and 18 we observe the highest fraudelent activity ratio. \n",
    "    * It shows that at late and after work hours fraudelent activities occur more. "
   ]
  },
  {
   "cell_type": "markdown",
   "metadata": {},
   "source": [
    "### Bivariate Relationships: Numerics Variables\n",
    "### Transaction Amount & Event Label:\n",
    "#### Assumption: \n",
    "\n",
    "Transactions are happening in different currencies. When I compare Euro to Canada and America Dollars, I see that maximum ratio is 1.8 in the last 2 years. Which means I will not apply a currency scaling in here. But in a real project we need to convert them to the same scale for appropriate comparison."
   ]
  },
  {
   "cell_type": "code",
   "execution_count": null,
   "metadata": {},
   "outputs": [],
   "source": [
    "# To see transaction amount distribution for EVENT_LABEL column:\n",
    "distplot_viz(\n",
    "    data=df_data,\n",
    "    column=\"transaction_amt\",\n",
    "    separate_column=\"EVENT_LABEL\",\n",
    "    condition_1=\"fraud\",\n",
    "    condition_2=\"legit\",\n",
    "    label1=\"Fraud\",\n",
    "    label2=\"Legit\",\n",
    "    title=\"Transaction Amount Distribution by Event Label\",\n",
    "    color1=\"blue\",\n",
    "    color2=\"red\",\n",
    ")"
   ]
  },
  {
   "cell_type": "code",
   "execution_count": null,
   "metadata": {},
   "outputs": [],
   "source": [
    "list_of_column_descriptive = [\"transaction_amt\"]\n",
    "print(\"Fraud transactions; \\n\")\n",
    "df_descriptive_statistics(\n",
    "    df_data[df_data[\"EVENT_LABEL\"] == \"fraud\"], list_of_column_descriptive\n",
    ")\n",
    "print(\"Legit transactions; \\n\")\n",
    "df_descriptive_statistics(\n",
    "    df_data[df_data[\"EVENT_LABEL\"] == \"legit\"], list_of_column_descriptive\n",
    ")"
   ]
  },
  {
   "cell_type": "markdown",
   "metadata": {},
   "source": [
    "#### Findings: \n",
    "* Fraudelent transactions have smaller variance compared to legit transactions.  \n",
    "* Fraudelent transaction's minimum value is 175 times bigger than legit transactions.\n",
    "* These information shows that fraudelent people only focuses on certain amount of transactions. Small numbers are not important for them."
   ]
  },
  {
   "cell_type": "markdown",
   "metadata": {},
   "source": [
    "### Account Age & Event Label:"
   ]
  },
  {
   "cell_type": "code",
   "execution_count": null,
   "metadata": {},
   "outputs": [],
   "source": [
    "# To see transaction amount distribution for Account Age column:\n",
    "distplot_viz(\n",
    "    data=df_data,\n",
    "    column=\"account_age_days\",\n",
    "    separate_column=\"EVENT_LABEL\",\n",
    "    condition_1=\"fraud\",\n",
    "    condition_2=\"legit\",\n",
    "    label1=\"Fraud\",\n",
    "    label2=\"Legit\",\n",
    "    title=\"Acount Age Distribution by Event Label\",\n",
    "    color1=\"blue\",\n",
    "    color2=\"red\",\n",
    ")"
   ]
  },
  {
   "cell_type": "code",
   "execution_count": null,
   "metadata": {},
   "outputs": [],
   "source": [
    "list_of_column_descriptive = [\"account_age_days\"]\n",
    "print(\"Fraud transactions; \\n\")\n",
    "df_descriptive_statistics(\n",
    "    df_data[df_data[\"EVENT_LABEL\"] == \"fraud\"], list_of_column_descriptive\n",
    ")\n",
    "print(\"Legit transactions; \\n\")\n",
    "df_descriptive_statistics(\n",
    "    df_data[df_data[\"EVENT_LABEL\"] == \"legit\"], list_of_column_descriptive\n",
    ")"
   ]
  },
  {
   "cell_type": "markdown",
   "metadata": {},
   "source": [
    "#### Findings: \n",
    "* Fraudelent transactions have smaller variance compared to legit transactions.  \n",
    "* Fraudelent transaction's minimum value is 931 times bigger than legit transactions.\n",
    "* These information shows that fraudelent people only focuses on accounts are older than 3.5 years. Newly created accounts are not in their target group."
   ]
  },
  {
   "cell_type": "markdown",
   "metadata": {},
   "source": [
    "### Days Since Last Logon & Event Label:"
   ]
  },
  {
   "cell_type": "code",
   "execution_count": null,
   "metadata": {},
   "outputs": [],
   "source": [
    "# To see transaction amount distribution for Account Days Since Last Logon column:\n",
    "distplot_viz(\n",
    "    data=df_data,\n",
    "    column=\"days_since_last_logon\",\n",
    "    separate_column=\"EVENT_LABEL\",\n",
    "    condition_1=\"fraud\",\n",
    "    condition_2=\"legit\",\n",
    "    label1=\"Fraud\",\n",
    "    label2=\"Legit\",\n",
    "    title=\"Logon Distribution by Event Label\",\n",
    "    color1=\"blue\",\n",
    "    color2=\"red\",\n",
    ")"
   ]
  },
  {
   "cell_type": "code",
   "execution_count": null,
   "metadata": {},
   "outputs": [],
   "source": [
    "list_of_column_descriptive = [\"days_since_last_logon\"]\n",
    "print(\"Fraud transactions; \\n\")\n",
    "df_descriptive_statistics(\n",
    "    df_data[df_data[\"EVENT_LABEL\"] == \"fraud\"], list_of_column_descriptive\n",
    ")\n",
    "print(\"Legit transactions; \\n\")\n",
    "df_descriptive_statistics(\n",
    "    df_data[df_data[\"EVENT_LABEL\"] == \"legit\"], list_of_column_descriptive\n",
    ")"
   ]
  },
  {
   "cell_type": "markdown",
   "metadata": {},
   "source": [
    "#### Findings: \n",
    "* Fraudelent and legit distributions are approximately similar.  "
   ]
  },
  {
   "cell_type": "markdown",
   "metadata": {},
   "source": [
    "### Inital Amount & Event Label:  "
   ]
  },
  {
   "cell_type": "code",
   "execution_count": null,
   "metadata": {},
   "outputs": [],
   "source": [
    "# To see transaction amount distribution for Initial Amount column:\n",
    "distplot_viz(\n",
    "    data=df_data,\n",
    "    column=\"inital_amount\",\n",
    "    separate_column=\"EVENT_LABEL\",\n",
    "    condition_1=\"fraud\",\n",
    "    condition_2=\"legit\",\n",
    "    label1=\"Fraud\",\n",
    "    label2=\"Legit\",\n",
    "    title=\"Inital Amount Distribution by Event Label\",\n",
    "    color1=\"blue\",\n",
    "    color2=\"red\",\n",
    ")"
   ]
  },
  {
   "cell_type": "code",
   "execution_count": null,
   "metadata": {},
   "outputs": [],
   "source": [
    "list_of_column_descriptive = [\"inital_amount\"]\n",
    "print(\"Fraud transactions; \\n\")\n",
    "df_descriptive_statistics(\n",
    "    df_data[df_data[\"EVENT_LABEL\"] == \"fraud\"], list_of_column_descriptive\n",
    ")\n",
    "print(\"Legit transactions; \\n\")\n",
    "df_descriptive_statistics(\n",
    "    df_data[df_data[\"EVENT_LABEL\"] == \"legit\"], list_of_column_descriptive\n",
    ")"
   ]
  },
  {
   "cell_type": "markdown",
   "metadata": {},
   "source": [
    "#### Findings: \n",
    "* Fraudelent and legit distributions are approximately similar. "
   ]
  },
  {
   "cell_type": "markdown",
   "metadata": {},
   "source": [
    "### Adjusted Transaction Amount & Event Label:  "
   ]
  },
  {
   "cell_type": "code",
   "execution_count": null,
   "metadata": {},
   "outputs": [],
   "source": [
    "# To see transaction amount distribution for Adjusted Transaction Amount column:\n",
    "distplot_viz(\n",
    "    data=df_data,\n",
    "    column=\"transaction_adj_amt\",\n",
    "    separate_column=\"EVENT_LABEL\",\n",
    "    condition_1=\"fraud\",\n",
    "    condition_2=\"legit\",\n",
    "    label1=\"Fraud\",\n",
    "    label2=\"Legit\",\n",
    "    title=\"Inital Amount Distribution by Event Label\",\n",
    "    color1=\"blue\",\n",
    "    color2=\"red\",\n",
    ")"
   ]
  },
  {
   "cell_type": "code",
   "execution_count": null,
   "metadata": {},
   "outputs": [],
   "source": [
    "list_of_column_descriptive = [\"transaction_adj_amt\"]\n",
    "print(\"Fraud transactions; \\n\")\n",
    "df_descriptive_statistics(\n",
    "    df_data[df_data[\"EVENT_LABEL\"] == \"fraud\"], list_of_column_descriptive\n",
    ")\n",
    "print(\"Legit transactions; \\n\")\n",
    "df_descriptive_statistics(\n",
    "    df_data[df_data[\"EVENT_LABEL\"] == \"legit\"], list_of_column_descriptive\n",
    ")"
   ]
  },
  {
   "cell_type": "markdown",
   "metadata": {},
   "source": [
    "#### Findings:  \n",
    "* Fraudelent transaction's minimum value is 15 times smaller than legit transactions.\n",
    "* Fraud transactions have a smaller interval compared to legit transactions. \n",
    "* These information shows that fraudelent people most focuses on smaller adjusted transaction amounts. Without the business knowledge hard to evaluate further."
   ]
  },
  {
   "cell_type": "markdown",
   "metadata": {},
   "source": [
    "### Historic Velocity & Event Label:  "
   ]
  },
  {
   "cell_type": "code",
   "execution_count": null,
   "metadata": {},
   "outputs": [],
   "source": [
    "# To see transaction amount distribution for Historic Velocity column:\n",
    "distplot_viz(\n",
    "    data=df_data,\n",
    "    column=\"historic_velocity\",\n",
    "    separate_column=\"EVENT_LABEL\",\n",
    "    condition_1=\"fraud\",\n",
    "    condition_2=\"legit\",\n",
    "    label1=\"Fraud\",\n",
    "    label2=\"Legit\",\n",
    "    title=\"Inital Amount Distribution by Event Label\",\n",
    "    color1=\"blue\",\n",
    "    color2=\"red\",\n",
    ")"
   ]
  },
  {
   "cell_type": "code",
   "execution_count": null,
   "metadata": {},
   "outputs": [],
   "source": [
    "list_of_column_descriptive = [\"historic_velocity\"]\n",
    "print(\"Fraud transactions; \\n\")\n",
    "df_descriptive_statistics(\n",
    "    df_data[df_data[\"EVENT_LABEL\"] == \"fraud\"], list_of_column_descriptive\n",
    ")\n",
    "print(\"Legit transactions; \\n\")\n",
    "df_descriptive_statistics(\n",
    "    df_data[df_data[\"EVENT_LABEL\"] == \"legit\"], list_of_column_descriptive\n",
    ")"
   ]
  },
  {
   "cell_type": "markdown",
   "metadata": {},
   "source": [
    "#### Findings:  \n",
    "* Fraudelent transaction's minimum value is 17 times bigger than legit transactions. \n",
    "* Distributions are approximately similar. \n",
    "* These information shows that fraudelent people most focuses on bigger historic velocity. Without the business knowledge hard to evaluate further. "
   ]
  },
  {
   "cell_type": "markdown",
   "metadata": {},
   "source": [
    "### Bivariate Relationships: Categorical Variables\n",
    "### Billing States & Event Label"
   ]
  },
  {
   "cell_type": "code",
   "execution_count": null,
   "metadata": {},
   "outputs": [],
   "source": [
    "filter_list = [\"fraud\", \"legit\"]\n",
    "countplot_pointplot_viz(\n",
    "    df_data,\n",
    "    filter_list,\n",
    "    \"billing_state\",\n",
    "    \"EVENT_LABEL\",\n",
    "    \"EVENT_LABEL_\",\n",
    "    \"Years\",\n",
    "    \"Freq\",\n",
    "    \"Years & Event Label\",\n",
    "    palette=\"rocket\",\n",
    "    figsize_x=40,\n",
    "    figsize_y=10,\n",
    ")"
   ]
  },
  {
   "cell_type": "code",
   "execution_count": null,
   "metadata": {},
   "outputs": [],
   "source": [
    "countplot_viz(\n",
    "    df_data,\n",
    "    \"billing_state\",\n",
    "    \"Billing State\",\n",
    "    \"Count\",\n",
    "    \"Event Label Counts by Billing States\",\n",
    "    hue=\"EVENT_LABEL\",\n",
    "    rotation=45,\n",
    "    figsize_x=25,\n",
    "    figsize_y=5,\n",
    ")"
   ]
  },
  {
   "cell_type": "markdown",
   "metadata": {},
   "source": [
    "#### Findings: \n",
    "* Fraudelent transactions mostly appeare at Indiana and New Mexico. "
   ]
  },
  {
   "cell_type": "markdown",
   "metadata": {},
   "source": [
    "### Currency & Event Label"
   ]
  },
  {
   "cell_type": "code",
   "execution_count": null,
   "metadata": {},
   "outputs": [],
   "source": [
    "countplot_viz(\n",
    "    df_data,\n",
    "    \"currency\",\n",
    "    \"currency\",\n",
    "    \"Count\",\n",
    "    \"Event Label Counts by Transaction Types\",\n",
    "    hue=\"EVENT_LABEL\",\n",
    "    rotation=45,\n",
    "    figsize_x=25,\n",
    "    figsize_y=5,\n",
    ")"
   ]
  },
  {
   "cell_type": "code",
   "execution_count": null,
   "metadata": {},
   "outputs": [],
   "source": [
    "print(\n",
    "    \"Fraud rate into cad currency:\\n--------------------------\\n\",\n",
    "    5787 / (107964 + 5787),\n",
    ")\n",
    "print(\n",
    "    \"Fraud rate into usd currency:\\n--------------------------\\n\",\n",
    "    1920 / (29848 + 1920),\n",
    ")\n",
    "print(\n",
    "    \"Fraud rate into euro currency:\\n--------------------------\\n\",\n",
    "    450 / (3923 + 450),\n",
    ")"
   ]
  },
  {
   "cell_type": "markdown",
   "metadata": {},
   "source": [
    "#### Findings:\n",
    "* If we looking the count of fraudelent activities, Biggest count is belong to cad currency. \n",
    "* If we looking the rate of fraudelent activities, Biggest rate is belong to euro currency. It shows shopping with euro currency is open to fraud. "
   ]
  },
  {
   "cell_type": "markdown",
   "metadata": {},
   "source": [
    "### Transaction Types & Event Label: "
   ]
  },
  {
   "cell_type": "code",
   "execution_count": null,
   "metadata": {},
   "outputs": [],
   "source": [
    "countplot_viz(\n",
    "    df_data,\n",
    "    \"transaction_type\",\n",
    "    \"Transaction Type\",\n",
    "    \"Count\",\n",
    "    \"Event Label Counts by Transaction Types\",\n",
    "    hue=\"EVENT_LABEL\",\n",
    "    rotation=45,\n",
    "    figsize_x=25,\n",
    "    figsize_y=5,\n",
    ")"
   ]
  },
  {
   "cell_type": "markdown",
   "metadata": {},
   "source": [
    "#### Findings: \n",
    "* Fraudelent transactions mostly appeare at U, F and I. "
   ]
  },
  {
   "cell_type": "markdown",
   "metadata": {},
   "source": [
    "### Transaction Env & Event Label: "
   ]
  },
  {
   "cell_type": "code",
   "execution_count": null,
   "metadata": {},
   "outputs": [],
   "source": [
    "countplot_viz(\n",
    "    df_data,\n",
    "    \"transaction_env\",\n",
    "    \"Transaction Env\",\n",
    "    \"Count\",\n",
    "    \"Event Label Counts by Transaction Env\",\n",
    "    hue=\"EVENT_LABEL\",\n",
    "    rotation=45,\n",
    "    figsize_x=25,\n",
    "    figsize_y=5,\n",
    ")"
   ]
  },
  {
   "cell_type": "markdown",
   "metadata": {},
   "source": [
    "#### Findings: \n",
    "* Fraudelent transactions mostly appeare at G, I and D. "
   ]
  },
  {
   "cell_type": "markdown",
   "metadata": {},
   "source": [
    "### Transaction Initiate & Event Label: "
   ]
  },
  {
   "cell_type": "code",
   "execution_count": null,
   "metadata": {},
   "outputs": [],
   "source": [
    "countplot_viz(\n",
    "    df_data,\n",
    "    \"tranaction_initiate\",\n",
    "    \"Transaction Initiate\",\n",
    "    \"Count\",\n",
    "    \"Event Label Counts by Transaction Initiate\",\n",
    "    hue=\"EVENT_LABEL\",\n",
    "    rotation=45,\n",
    "    figsize_x=25,\n",
    "    figsize_y=5,\n",
    ")"
   ]
  },
  {
   "cell_type": "markdown",
   "metadata": {},
   "source": [
    "#### Findings: \n",
    "* Fraudelent transactions mostly appeare at G, I and D. "
   ]
  },
  {
   "cell_type": "markdown",
   "metadata": {},
   "source": [
    "### Card Bin & Event Label:"
   ]
  },
  {
   "cell_type": "code",
   "execution_count": null,
   "metadata": {},
   "outputs": [],
   "source": [
    "countplot_viz(\n",
    "    df_data,\n",
    "    \"card_bin\",\n",
    "    \"Card Bin\",\n",
    "    \"Count\",\n",
    "    \"Event Label Counts by Card Bin\",\n",
    "    hue=\"EVENT_LABEL\",\n",
    "    rotation=45,\n",
    "    figsize_x=25,\n",
    "    figsize_y=5,\n",
    ")"
   ]
  },
  {
   "cell_type": "markdown",
   "metadata": {},
   "source": [
    "####  Findings:"
   ]
  },
  {
   "cell_type": "markdown",
   "metadata": {},
   "source": [
    "### Email Domain & Event Label:  "
   ]
  },
  {
   "cell_type": "code",
   "execution_count": null,
   "metadata": {},
   "outputs": [],
   "source": [
    "countplot_viz(\n",
    "    df_data,\n",
    "    \"email_domain\",\n",
    "    \"email_domain\",\n",
    "    \"Count\",\n",
    "    \"Event Label Counts by Transaction Initiate\",\n",
    "    hue=\"EVENT_LABEL\",\n",
    "    rotation=45,\n",
    "    figsize_x=25,\n",
    "    figsize_y=5,\n",
    ")"
   ]
  },
  {
   "cell_type": "markdown",
   "metadata": {},
   "source": [
    "### CVV & Event Label:  "
   ]
  },
  {
   "cell_type": "code",
   "execution_count": null,
   "metadata": {},
   "outputs": [],
   "source": [
    "countplot_viz(\n",
    "    df_data,\n",
    "    \"cvv\",\n",
    "    \"email_domain\",\n",
    "    \"Count\",\n",
    "    \"Event Label counts by CVV\",\n",
    "    hue=\"EVENT_LABEL\",\n",
    "    rotation=45,\n",
    "    figsize_x=25,\n",
    "    figsize_y=5,\n",
    ")"
   ]
  },
  {
   "cell_type": "markdown",
   "metadata": {},
   "source": [
    "### Signature Image & Event Label:  "
   ]
  },
  {
   "cell_type": "code",
   "execution_count": null,
   "metadata": {},
   "outputs": [],
   "source": [
    "countplot_viz(\n",
    "    df_data,\n",
    "    \"signature_image\",\n",
    "    \"email_domain\",\n",
    "    \"Count\",\n",
    "    \"Event Label counts by CVV\",\n",
    "    hue=\"EVENT_LABEL\",\n",
    "    rotation=45,\n",
    "    figsize_x=25,\n",
    "    figsize_y=5,\n",
    ")"
   ]
  },
  {
   "cell_type": "code",
   "execution_count": null,
   "metadata": {},
   "outputs": [],
   "source": []
  }
 ],
 "metadata": {
  "kernelspec": {
   "display_name": "Python 3",
   "language": "python",
   "name": "python3"
  },
  "language_info": {
   "codemirror_mode": {
    "name": "ipython",
    "version": 3
   },
   "file_extension": ".py",
   "mimetype": "text/x-python",
   "name": "python",
   "nbconvert_exporter": "python",
   "pygments_lexer": "ipython3",
   "version": "3.9.1"
  }
 },
 "nbformat": 4,
 "nbformat_minor": 4
}
